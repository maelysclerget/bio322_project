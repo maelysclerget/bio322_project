{
 "cells": [
  {
   "cell_type": "code",
   "execution_count": null,
   "metadata": {},
   "outputs": [
    {
     "name": "stdout",
     "output_type": "stream",
     "text": [
      "The size of the train data set is (1432, 126)\n",
      "There is  1 categorial columns\n"
     ]
    },
    {
     "name": "stderr",
     "output_type": "stream",
     "text": [
      "/var/folders/7x/43mgl97d0fvdqdc5rb7fhwdc0000gn/T/ipykernel_42461/1953624811.py:22: FutureWarning: \n",
      "\n",
      "Passing `palette` without assigning `hue` is deprecated and will be removed in v0.14.0. Assign the `x` variable to `hue` and set `legend=False` for the same effect.\n",
      "\n",
      "  sns.countplot(x=col, data=data_substances, palette='viridis')\n"
     ]
    }
   ],
   "source": [
    "\n",
    "import numpy as np\n",
    "import pandas as pd\n",
    "import seaborn as sns\n",
    "import matplotlib.pyplot as plt\n",
    "import os \n",
    "\n",
    "def data_visualisation_substances():\n",
    "    # Créer un dossier pour sauvegarder les graphiques\n",
    "    output_dir = 'data_visualisation_substances'\n",
    "    if not os.path.exists(output_dir):\n",
    "        os.makedirs(output_dir)\n",
    "        print(f\"Répertoire créé : {output_dir}\")\n",
    "        \n",
    "    data_substances = pd.read_csv('/Users/alicepriolet/Desktop/ML/epfl-bio-322-2024/substances.csv')\n",
    "    print(\"The size of the train data set is\",data_substances.shape)\n",
    "    \n",
    "    categorical_columns = data_substances.select_dtypes(include=['object', 'category']).columns\n",
    "    print(\"There is \",len(categorical_columns),\"categorial columns\")\n",
    "    \n",
    "    for col in categorical_columns:\n",
    "        plt.figure(figsize=(15, 15))\n",
    "        sns.countplot(x=col, data=data_substances, palette='viridis')\n",
    "        plt.title(f\"Repartition of the categories in {col}\")\n",
    "        plt.xlabel(col)\n",
    "        plt.ylabel(\"Frequency\")\n",
    "        plt.xticks(rotation=45)\n",
    "        \n",
    "        # Sauvegarder le graphique\n",
    "        graph_path = os.path.join(output_dir, f\"category_distribution_{col}.png\")\n",
    "        plt.savefig(graph_path)\n",
    "        plt.close()\n",
    "        \n",
    "    data_substances['more_than_2'] = substances_data['substance_column'].map(\n",
    "    lambda x: substance_counts[x] > 2\n",
    ")\n",
    "\n",
    "print(substances_data.head())\n",
    "\n",
    "\n",
    "def main():\n",
    "    data_visualisation_substances()\n",
    "    \n",
    "if __name__ == '__main__':\n",
    "    main() "
   ]
  }
 ],
 "metadata": {
  "kernelspec": {
   "display_name": "MLCourse",
   "language": "python",
   "name": "python3"
  },
  "language_info": {
   "codemirror_mode": {
    "name": "ipython",
    "version": 3
   },
   "file_extension": ".py",
   "mimetype": "text/x-python",
   "name": "python",
   "nbconvert_exporter": "python",
   "pygments_lexer": "ipython3",
   "version": "3.10.8"
  }
 },
 "nbformat": 4,
 "nbformat_minor": 2
}
